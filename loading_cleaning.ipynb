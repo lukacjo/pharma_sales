{
 "cells": [
  {
   "cell_type": "code",
   "execution_count": 4,
   "metadata": {
    "tags": []
   },
   "outputs": [],
   "source": [
    "#!cp /Users/Lukasz/Desktop/kaggle.json /Users/Lukasz/.kaggle # kopiuję plik z kluczem api do foldera .kaggle"
   ]
  },
  {
   "cell_type": "code",
   "execution_count": 10,
   "metadata": {
    "tags": []
   },
   "outputs": [],
   "source": [
    "import pandas as pd\n",
    "import kaggle\n",
    "import zipfile"
   ]
  },
  {
   "cell_type": "code",
   "execution_count": 6,
   "metadata": {
    "tags": []
   },
   "outputs": [],
   "source": [
    "#chmod 600 /Users/Lukasz/.kaggle/kaggle.json # zabezpieczam plik przed widocznością dla innych urzytkowników"
   ]
  },
  {
   "cell_type": "code",
   "execution_count": 8,
   "metadata": {
    "tags": []
   },
   "outputs": [
    {
     "name": "stdout",
     "output_type": "stream",
     "text": [
      "ref                                                         title                                             size  lastUpdated          downloadCount  voteCount  usabilityRating  \n",
      "----------------------------------------------------------  -----------------------------------------------  -----  -------------------  -------------  ---------  ---------------  \n",
      "milanzdravkovic/pharma-sales-data                           Pharma sales data                                352KB  2020-01-05 18:14:22          25270        187  0.9117647        \n",
      "ybifoundation/pharma-drug-sales                             Pharma Drug Sales                                340KB  2023-02-26 06:03:07            490         65  0.47058824       \n",
      "sambunaren/pharmasalesdata                                  pharma-sales-data                                 282B  2020-09-24 14:59:27            189          5  0.125            \n",
      "shivamkapoor5034/pharmaceutical-monthly-sales               Pharmaceutical Monthly Sales                       2KB  2022-11-04 10:06:41            138          2  0.85294116       \n",
      "rohithsureddy/pharma-sales                                  Pharma Sales                                       2MB  2021-10-05 04:41:20            144          1  0.11764706       \n",
      "yogeshpandey1/pharma-sales-hourly                           Pharma sales hourly                              430KB  2023-05-03 09:35:26              6          0  0.11764706       \n",
      "bakasas/pharmaceutical-sales                                Pharmaceutical Sales                               2MB  2023-09-23 15:26:32              8          0  0.23529412       \n",
      "osamamohmed/data-analysis-presentation-of-pharmacies-sales  data analysis presentation of pharmacies sales    15MB  2023-08-19 07:41:11              3          0  0.125            \n",
      "galinaxoteenkova/pharma-sales                               pharma_sales                                     554MB  2022-01-13 19:12:53            189          4  0.23529412       \n"
     ]
    }
   ],
   "source": [
    "!kaggle datasets list -s 'pharma sales' # Przy użyciu api kaggle szukam bazy danych związanej ze sprzedarzą leków w firmie farmaceutycznej"
   ]
  },
  {
   "cell_type": "markdown",
   "metadata": {},
   "source": [
    "### Wybieram bazę z nawyższym usability i pobieram ją"
   ]
  },
  {
   "cell_type": "code",
   "execution_count": 9,
   "metadata": {
    "tags": []
   },
   "outputs": [
    {
     "name": "stdout",
     "output_type": "stream",
     "text": [
      "Downloading pharma-sales-data.zip to /Users/Lukasz/Desktop/med_sales_proj\n",
      "100%|████████████████████████████████████████| 352k/352k [00:00<00:00, 1.67MB/s]\n",
      "100%|████████████████████████████████████████| 352k/352k [00:00<00:00, 1.66MB/s]\n"
     ]
    }
   ],
   "source": [
    "!kaggle datasets download -d milanzdravkovic/pharma-sales-data"
   ]
  },
  {
   "cell_type": "code",
   "execution_count": 11,
   "metadata": {
    "tags": []
   },
   "outputs": [],
   "source": [
    "# Rozpakowuję zipa\n",
    "with zipfile.ZipFile('pharma-sales-data.zip', 'r') as zipref: \n",
    "    zipref.extractall()"
   ]
  },
  {
   "cell_type": "code",
   "execution_count": null,
   "metadata": {},
   "outputs": [],
   "source": []
  }
 ],
 "metadata": {
  "kernelspec": {
   "display_name": "Python 3 (ipykernel)",
   "language": "python",
   "name": "python3"
  },
  "language_info": {
   "codemirror_mode": {
    "name": "ipython",
    "version": 3
   },
   "file_extension": ".py",
   "mimetype": "text/x-python",
   "name": "python",
   "nbconvert_exporter": "python",
   "pygments_lexer": "ipython3",
   "version": "3.11.5"
  }
 },
 "nbformat": 4,
 "nbformat_minor": 4
}
