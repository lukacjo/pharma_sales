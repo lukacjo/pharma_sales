{
 "cells": [
  {
   "cell_type": "code",
   "execution_count": 34,
   "metadata": {
    "tags": []
   },
   "outputs": [],
   "source": [
    "#!cp /Users/Lukasz/Desktop/kaggle.json /Users/Lukasz/.kaggle # kopiuję plik z kluczem api do foldera .kaggle"
   ]
  },
  {
   "cell_type": "code",
   "execution_count": 35,
   "metadata": {
    "tags": []
   },
   "outputs": [],
   "source": [
    "import pandas as pd\n",
    "import kaggle\n",
    "import zipfile"
   ]
  },
  {
   "cell_type": "code",
   "execution_count": 36,
   "metadata": {
    "tags": []
   },
   "outputs": [],
   "source": [
    "#chmod 600 /Users/Lukasz/.kaggle/kaggle.json # zabezpieczam plik przed widocznością dla innych urzytkowników"
   ]
  },
  {
   "cell_type": "code",
   "execution_count": 37,
   "metadata": {
    "tags": []
   },
   "outputs": [
    {
     "name": "stdout",
     "output_type": "stream",
     "text": [
      "ref                                                         title                                             size  lastUpdated          downloadCount  voteCount  usabilityRating  \n",
      "----------------------------------------------------------  -----------------------------------------------  -----  -------------------  -------------  ---------  ---------------  \n",
      "milanzdravkovic/pharma-sales-data                           Pharma sales data                                352KB  2020-01-05 18:14:22          25321        187  0.9117647        \n",
      "ybifoundation/pharma-drug-sales                             Pharma Drug Sales                                340KB  2023-02-26 06:03:07            491         65  0.47058824       \n",
      "sambunaren/pharmasalesdata                                  pharma-sales-data                                 282B  2020-09-24 14:59:27            189          5  0.125            \n",
      "shivamkapoor5034/pharmaceutical-monthly-sales               Pharmaceutical Monthly Sales                       2KB  2022-11-04 10:06:41            138          2  0.85294116       \n",
      "rohithsureddy/pharma-sales                                  Pharma Sales                                       2MB  2021-10-05 04:41:20            144          1  0.11764706       \n",
      "yogeshpandey1/pharma-sales-hourly                           Pharma sales hourly                              430KB  2023-05-03 09:35:26              6          0  0.11764706       \n",
      "bakasas/pharmaceutical-sales                                Pharmaceutical Sales                               2MB  2023-09-23 15:26:32              8          0  0.23529412       \n",
      "osamamohmed/data-analysis-presentation-of-pharmacies-sales  data analysis presentation of pharmacies sales    15MB  2023-08-19 07:41:11              4          0  0.125            \n",
      "galinaxoteenkova/pharma-sales                               pharma_sales                                     554MB  2022-01-13 19:12:53            189          4  0.23529412       \n"
     ]
    }
   ],
   "source": [
    "!kaggle datasets list -s 'pharma sales' # Przy użyciu api kaggle szukam bazy danych związanej ze sprzedarzą leków w firmie farmaceutycznej"
   ]
  },
  {
   "cell_type": "markdown",
   "metadata": {},
   "source": [
    "### Wybieram bazę z nawyższym usability i pobieram ją"
   ]
  },
  {
   "cell_type": "code",
   "execution_count": 38,
   "metadata": {
    "tags": []
   },
   "outputs": [
    {
     "name": "stdout",
     "output_type": "stream",
     "text": [
      "pharma-sales-data.zip: Skipping, found more recently modified local copy (use --force to force download)\n"
     ]
    }
   ],
   "source": [
    "!kaggle datasets download -d milanzdravkovic/pharma-sales-data"
   ]
  },
  {
   "cell_type": "code",
   "execution_count": 39,
   "metadata": {
    "tags": []
   },
   "outputs": [],
   "source": [
    "# Rozpakowuję zipa\n",
    "with zipfile.ZipFile('pharma-sales-data.zip', 'r') as zipref: \n",
    "    zipref.extractall()"
   ]
  },
  {
   "cell_type": "code",
   "execution_count": 40,
   "metadata": {
    "tags": []
   },
   "outputs": [],
   "source": [
    "df_hourly = pd.read_csv('saleshourly.csv')\n",
    "df_daily = pd.read_csv('salesdaily.csv')\n",
    "df_weekly = pd.read_csv('salesweekly.csv')\n",
    "df_monthly = pd.read_csv('salesmonthly.csv')"
   ]
  },
  {
   "cell_type": "markdown",
   "metadata": {},
   "source": [
    "### Sprawdzam jak wyglądają dane"
   ]
  },
  {
   "cell_type": "code",
   "execution_count": 41,
   "metadata": {
    "tags": []
   },
   "outputs": [
    {
     "data": {
      "text/html": [
       "<div>\n",
       "<style scoped>\n",
       "    .dataframe tbody tr th:only-of-type {\n",
       "        vertical-align: middle;\n",
       "    }\n",
       "\n",
       "    .dataframe tbody tr th {\n",
       "        vertical-align: top;\n",
       "    }\n",
       "\n",
       "    .dataframe thead th {\n",
       "        text-align: right;\n",
       "    }\n",
       "</style>\n",
       "<table border=\"1\" class=\"dataframe\">\n",
       "  <thead>\n",
       "    <tr style=\"text-align: right;\">\n",
       "      <th></th>\n",
       "      <th>datum</th>\n",
       "      <th>M01AB</th>\n",
       "      <th>M01AE</th>\n",
       "      <th>N02BA</th>\n",
       "      <th>N02BE</th>\n",
       "      <th>N05B</th>\n",
       "      <th>N05C</th>\n",
       "      <th>R03</th>\n",
       "      <th>R06</th>\n",
       "      <th>Year</th>\n",
       "      <th>Month</th>\n",
       "      <th>Hour</th>\n",
       "      <th>Weekday Name</th>\n",
       "    </tr>\n",
       "  </thead>\n",
       "  <tbody>\n",
       "    <tr>\n",
       "      <th>0</th>\n",
       "      <td>1/2/2014 8:00</td>\n",
       "      <td>0.00</td>\n",
       "      <td>0.67</td>\n",
       "      <td>0.40</td>\n",
       "      <td>2.00</td>\n",
       "      <td>0.00</td>\n",
       "      <td>0.00</td>\n",
       "      <td>0.00</td>\n",
       "      <td>1.00</td>\n",
       "      <td>2014</td>\n",
       "      <td>1</td>\n",
       "      <td>8</td>\n",
       "      <td>Thursday</td>\n",
       "    </tr>\n",
       "    <tr>\n",
       "      <th>1</th>\n",
       "      <td>1/2/2014 9:00</td>\n",
       "      <td>0.00</td>\n",
       "      <td>0.00</td>\n",
       "      <td>1.00</td>\n",
       "      <td>0.00</td>\n",
       "      <td>2.00</td>\n",
       "      <td>0.00</td>\n",
       "      <td>0.00</td>\n",
       "      <td>0.00</td>\n",
       "      <td>2014</td>\n",
       "      <td>1</td>\n",
       "      <td>9</td>\n",
       "      <td>Thursday</td>\n",
       "    </tr>\n",
       "    <tr>\n",
       "      <th>2</th>\n",
       "      <td>1/2/2014 10:00</td>\n",
       "      <td>0.00</td>\n",
       "      <td>0.00</td>\n",
       "      <td>0.00</td>\n",
       "      <td>3.00</td>\n",
       "      <td>2.00</td>\n",
       "      <td>0.00</td>\n",
       "      <td>0.00</td>\n",
       "      <td>0.00</td>\n",
       "      <td>2014</td>\n",
       "      <td>1</td>\n",
       "      <td>10</td>\n",
       "      <td>Thursday</td>\n",
       "    </tr>\n",
       "    <tr>\n",
       "      <th>3</th>\n",
       "      <td>1/2/2014 11:00</td>\n",
       "      <td>0.00</td>\n",
       "      <td>0.00</td>\n",
       "      <td>0.00</td>\n",
       "      <td>2.00</td>\n",
       "      <td>1.00</td>\n",
       "      <td>0.00</td>\n",
       "      <td>0.00</td>\n",
       "      <td>0.00</td>\n",
       "      <td>2014</td>\n",
       "      <td>1</td>\n",
       "      <td>11</td>\n",
       "      <td>Thursday</td>\n",
       "    </tr>\n",
       "    <tr>\n",
       "      <th>4</th>\n",
       "      <td>1/2/2014 12:00</td>\n",
       "      <td>0.00</td>\n",
       "      <td>2.00</td>\n",
       "      <td>0.00</td>\n",
       "      <td>5.00</td>\n",
       "      <td>2.00</td>\n",
       "      <td>0.00</td>\n",
       "      <td>0.00</td>\n",
       "      <td>0.00</td>\n",
       "      <td>2014</td>\n",
       "      <td>1</td>\n",
       "      <td>12</td>\n",
       "      <td>Thursday</td>\n",
       "    </tr>\n",
       "  </tbody>\n",
       "</table>\n",
       "</div>"
      ],
      "text/plain": [
       "            datum  M01AB  M01AE  N02BA  N02BE  N05B  N05C  R03  R06  Year  \\\n",
       "0   1/2/2014 8:00   0.00   0.67   0.40   2.00  0.00  0.00 0.00 1.00  2014   \n",
       "1   1/2/2014 9:00   0.00   0.00   1.00   0.00  2.00  0.00 0.00 0.00  2014   \n",
       "2  1/2/2014 10:00   0.00   0.00   0.00   3.00  2.00  0.00 0.00 0.00  2014   \n",
       "3  1/2/2014 11:00   0.00   0.00   0.00   2.00  1.00  0.00 0.00 0.00  2014   \n",
       "4  1/2/2014 12:00   0.00   2.00   0.00   5.00  2.00  0.00 0.00 0.00  2014   \n",
       "\n",
       "   Month  Hour Weekday Name  \n",
       "0      1     8     Thursday  \n",
       "1      1     9     Thursday  \n",
       "2      1    10     Thursday  \n",
       "3      1    11     Thursday  \n",
       "4      1    12     Thursday  "
      ]
     },
     "execution_count": 41,
     "metadata": {},
     "output_type": "execute_result"
    }
   ],
   "source": [
    "df_hourly.head()"
   ]
  },
  {
   "cell_type": "code",
   "execution_count": 42,
   "metadata": {
    "tags": []
   },
   "outputs": [
    {
     "data": {
      "text/html": [
       "<div>\n",
       "<style scoped>\n",
       "    .dataframe tbody tr th:only-of-type {\n",
       "        vertical-align: middle;\n",
       "    }\n",
       "\n",
       "    .dataframe tbody tr th {\n",
       "        vertical-align: top;\n",
       "    }\n",
       "\n",
       "    .dataframe thead th {\n",
       "        text-align: right;\n",
       "    }\n",
       "</style>\n",
       "<table border=\"1\" class=\"dataframe\">\n",
       "  <thead>\n",
       "    <tr style=\"text-align: right;\">\n",
       "      <th></th>\n",
       "      <th>datum</th>\n",
       "      <th>M01AB</th>\n",
       "      <th>M01AE</th>\n",
       "      <th>N02BA</th>\n",
       "      <th>N02BE</th>\n",
       "      <th>N05B</th>\n",
       "      <th>N05C</th>\n",
       "      <th>R03</th>\n",
       "      <th>R06</th>\n",
       "      <th>Year</th>\n",
       "      <th>Month</th>\n",
       "      <th>Hour</th>\n",
       "      <th>Weekday Name</th>\n",
       "    </tr>\n",
       "  </thead>\n",
       "  <tbody>\n",
       "    <tr>\n",
       "      <th>0</th>\n",
       "      <td>1/2/2014</td>\n",
       "      <td>0.00</td>\n",
       "      <td>3.67</td>\n",
       "      <td>3.40</td>\n",
       "      <td>32.40</td>\n",
       "      <td>7.00</td>\n",
       "      <td>0.00</td>\n",
       "      <td>0.00</td>\n",
       "      <td>2.00</td>\n",
       "      <td>2014</td>\n",
       "      <td>1</td>\n",
       "      <td>248</td>\n",
       "      <td>Thursday</td>\n",
       "    </tr>\n",
       "    <tr>\n",
       "      <th>1</th>\n",
       "      <td>1/3/2014</td>\n",
       "      <td>8.00</td>\n",
       "      <td>4.00</td>\n",
       "      <td>4.40</td>\n",
       "      <td>50.60</td>\n",
       "      <td>16.00</td>\n",
       "      <td>0.00</td>\n",
       "      <td>20.00</td>\n",
       "      <td>4.00</td>\n",
       "      <td>2014</td>\n",
       "      <td>1</td>\n",
       "      <td>276</td>\n",
       "      <td>Friday</td>\n",
       "    </tr>\n",
       "    <tr>\n",
       "      <th>2</th>\n",
       "      <td>1/4/2014</td>\n",
       "      <td>2.00</td>\n",
       "      <td>1.00</td>\n",
       "      <td>6.50</td>\n",
       "      <td>61.85</td>\n",
       "      <td>10.00</td>\n",
       "      <td>0.00</td>\n",
       "      <td>9.00</td>\n",
       "      <td>1.00</td>\n",
       "      <td>2014</td>\n",
       "      <td>1</td>\n",
       "      <td>276</td>\n",
       "      <td>Saturday</td>\n",
       "    </tr>\n",
       "    <tr>\n",
       "      <th>3</th>\n",
       "      <td>1/5/2014</td>\n",
       "      <td>4.00</td>\n",
       "      <td>3.00</td>\n",
       "      <td>7.00</td>\n",
       "      <td>41.10</td>\n",
       "      <td>8.00</td>\n",
       "      <td>0.00</td>\n",
       "      <td>3.00</td>\n",
       "      <td>0.00</td>\n",
       "      <td>2014</td>\n",
       "      <td>1</td>\n",
       "      <td>276</td>\n",
       "      <td>Sunday</td>\n",
       "    </tr>\n",
       "    <tr>\n",
       "      <th>4</th>\n",
       "      <td>1/6/2014</td>\n",
       "      <td>5.00</td>\n",
       "      <td>1.00</td>\n",
       "      <td>4.50</td>\n",
       "      <td>21.70</td>\n",
       "      <td>16.00</td>\n",
       "      <td>2.00</td>\n",
       "      <td>6.00</td>\n",
       "      <td>2.00</td>\n",
       "      <td>2014</td>\n",
       "      <td>1</td>\n",
       "      <td>276</td>\n",
       "      <td>Monday</td>\n",
       "    </tr>\n",
       "  </tbody>\n",
       "</table>\n",
       "</div>"
      ],
      "text/plain": [
       "      datum  M01AB  M01AE  N02BA  N02BE  N05B  N05C   R03  R06  Year  Month  \\\n",
       "0  1/2/2014   0.00   3.67   3.40  32.40  7.00  0.00  0.00 2.00  2014      1   \n",
       "1  1/3/2014   8.00   4.00   4.40  50.60 16.00  0.00 20.00 4.00  2014      1   \n",
       "2  1/4/2014   2.00   1.00   6.50  61.85 10.00  0.00  9.00 1.00  2014      1   \n",
       "3  1/5/2014   4.00   3.00   7.00  41.10  8.00  0.00  3.00 0.00  2014      1   \n",
       "4  1/6/2014   5.00   1.00   4.50  21.70 16.00  2.00  6.00 2.00  2014      1   \n",
       "\n",
       "   Hour Weekday Name  \n",
       "0   248     Thursday  \n",
       "1   276       Friday  \n",
       "2   276     Saturday  \n",
       "3   276       Sunday  \n",
       "4   276       Monday  "
      ]
     },
     "execution_count": 42,
     "metadata": {},
     "output_type": "execute_result"
    }
   ],
   "source": [
    "df_daily.head()"
   ]
  },
  {
   "cell_type": "code",
   "execution_count": 43,
   "metadata": {
    "tags": []
   },
   "outputs": [
    {
     "data": {
      "text/html": [
       "<div>\n",
       "<style scoped>\n",
       "    .dataframe tbody tr th:only-of-type {\n",
       "        vertical-align: middle;\n",
       "    }\n",
       "\n",
       "    .dataframe tbody tr th {\n",
       "        vertical-align: top;\n",
       "    }\n",
       "\n",
       "    .dataframe thead th {\n",
       "        text-align: right;\n",
       "    }\n",
       "</style>\n",
       "<table border=\"1\" class=\"dataframe\">\n",
       "  <thead>\n",
       "    <tr style=\"text-align: right;\">\n",
       "      <th></th>\n",
       "      <th>datum</th>\n",
       "      <th>M01AB</th>\n",
       "      <th>M01AE</th>\n",
       "      <th>N02BA</th>\n",
       "      <th>N02BE</th>\n",
       "      <th>N05B</th>\n",
       "      <th>N05C</th>\n",
       "      <th>R03</th>\n",
       "      <th>R06</th>\n",
       "    </tr>\n",
       "  </thead>\n",
       "  <tbody>\n",
       "    <tr>\n",
       "      <th>0</th>\n",
       "      <td>1/5/2014</td>\n",
       "      <td>14.00</td>\n",
       "      <td>11.67</td>\n",
       "      <td>21.30</td>\n",
       "      <td>185.95</td>\n",
       "      <td>41.00</td>\n",
       "      <td>0.00</td>\n",
       "      <td>32.00</td>\n",
       "      <td>7.00</td>\n",
       "    </tr>\n",
       "    <tr>\n",
       "      <th>1</th>\n",
       "      <td>1/12/2014</td>\n",
       "      <td>29.33</td>\n",
       "      <td>12.68</td>\n",
       "      <td>37.90</td>\n",
       "      <td>190.70</td>\n",
       "      <td>88.00</td>\n",
       "      <td>5.00</td>\n",
       "      <td>21.00</td>\n",
       "      <td>7.20</td>\n",
       "    </tr>\n",
       "    <tr>\n",
       "      <th>2</th>\n",
       "      <td>1/19/2014</td>\n",
       "      <td>30.67</td>\n",
       "      <td>26.34</td>\n",
       "      <td>45.90</td>\n",
       "      <td>218.40</td>\n",
       "      <td>80.00</td>\n",
       "      <td>8.00</td>\n",
       "      <td>29.00</td>\n",
       "      <td>12.00</td>\n",
       "    </tr>\n",
       "    <tr>\n",
       "      <th>3</th>\n",
       "      <td>1/26/2014</td>\n",
       "      <td>34.00</td>\n",
       "      <td>32.37</td>\n",
       "      <td>31.50</td>\n",
       "      <td>179.60</td>\n",
       "      <td>80.00</td>\n",
       "      <td>8.00</td>\n",
       "      <td>23.00</td>\n",
       "      <td>10.00</td>\n",
       "    </tr>\n",
       "    <tr>\n",
       "      <th>4</th>\n",
       "      <td>2/2/2014</td>\n",
       "      <td>31.02</td>\n",
       "      <td>23.35</td>\n",
       "      <td>20.70</td>\n",
       "      <td>159.88</td>\n",
       "      <td>84.00</td>\n",
       "      <td>12.00</td>\n",
       "      <td>29.00</td>\n",
       "      <td>12.00</td>\n",
       "    </tr>\n",
       "  </tbody>\n",
       "</table>\n",
       "</div>"
      ],
      "text/plain": [
       "       datum  M01AB  M01AE  N02BA  N02BE  N05B  N05C   R03   R06\n",
       "0   1/5/2014  14.00  11.67  21.30 185.95 41.00  0.00 32.00  7.00\n",
       "1  1/12/2014  29.33  12.68  37.90 190.70 88.00  5.00 21.00  7.20\n",
       "2  1/19/2014  30.67  26.34  45.90 218.40 80.00  8.00 29.00 12.00\n",
       "3  1/26/2014  34.00  32.37  31.50 179.60 80.00  8.00 23.00 10.00\n",
       "4   2/2/2014  31.02  23.35  20.70 159.88 84.00 12.00 29.00 12.00"
      ]
     },
     "execution_count": 43,
     "metadata": {},
     "output_type": "execute_result"
    }
   ],
   "source": [
    "df_weekly.head()"
   ]
  },
  {
   "cell_type": "code",
   "execution_count": 50,
   "metadata": {
    "tags": []
   },
   "outputs": [
    {
     "data": {
      "text/html": [
       "<div>\n",
       "<style scoped>\n",
       "    .dataframe tbody tr th:only-of-type {\n",
       "        vertical-align: middle;\n",
       "    }\n",
       "\n",
       "    .dataframe tbody tr th {\n",
       "        vertical-align: top;\n",
       "    }\n",
       "\n",
       "    .dataframe thead th {\n",
       "        text-align: right;\n",
       "    }\n",
       "</style>\n",
       "<table border=\"1\" class=\"dataframe\">\n",
       "  <thead>\n",
       "    <tr style=\"text-align: right;\">\n",
       "      <th></th>\n",
       "      <th>datum</th>\n",
       "      <th>M01AB</th>\n",
       "      <th>M01AE</th>\n",
       "      <th>N02BA</th>\n",
       "      <th>N02BE</th>\n",
       "      <th>N05B</th>\n",
       "      <th>N05C</th>\n",
       "      <th>R03</th>\n",
       "      <th>R06</th>\n",
       "    </tr>\n",
       "  </thead>\n",
       "  <tbody>\n",
       "    <tr>\n",
       "      <th>0</th>\n",
       "      <td>2014-01-31</td>\n",
       "      <td>127.69</td>\n",
       "      <td>99.09</td>\n",
       "      <td>152.10</td>\n",
       "      <td>878.03</td>\n",
       "      <td>354.00</td>\n",
       "      <td>50.00</td>\n",
       "      <td>112.00</td>\n",
       "      <td>48.20</td>\n",
       "    </tr>\n",
       "    <tr>\n",
       "      <th>1</th>\n",
       "      <td>2014-02-28</td>\n",
       "      <td>133.32</td>\n",
       "      <td>126.05</td>\n",
       "      <td>177.00</td>\n",
       "      <td>1001.90</td>\n",
       "      <td>347.00</td>\n",
       "      <td>31.00</td>\n",
       "      <td>122.00</td>\n",
       "      <td>36.20</td>\n",
       "    </tr>\n",
       "    <tr>\n",
       "      <th>2</th>\n",
       "      <td>2014-03-31</td>\n",
       "      <td>137.44</td>\n",
       "      <td>92.95</td>\n",
       "      <td>147.66</td>\n",
       "      <td>779.27</td>\n",
       "      <td>232.00</td>\n",
       "      <td>20.00</td>\n",
       "      <td>112.00</td>\n",
       "      <td>85.40</td>\n",
       "    </tr>\n",
       "    <tr>\n",
       "      <th>3</th>\n",
       "      <td>2014-04-30</td>\n",
       "      <td>113.10</td>\n",
       "      <td>89.48</td>\n",
       "      <td>130.90</td>\n",
       "      <td>698.50</td>\n",
       "      <td>209.00</td>\n",
       "      <td>18.00</td>\n",
       "      <td>97.00</td>\n",
       "      <td>73.70</td>\n",
       "    </tr>\n",
       "    <tr>\n",
       "      <th>4</th>\n",
       "      <td>2014-05-31</td>\n",
       "      <td>101.79</td>\n",
       "      <td>119.93</td>\n",
       "      <td>132.10</td>\n",
       "      <td>628.78</td>\n",
       "      <td>270.00</td>\n",
       "      <td>23.00</td>\n",
       "      <td>107.00</td>\n",
       "      <td>123.70</td>\n",
       "    </tr>\n",
       "  </tbody>\n",
       "</table>\n",
       "</div>"
      ],
      "text/plain": [
       "        datum  M01AB  M01AE  N02BA   N02BE   N05B  N05C    R03    R06\n",
       "0  2014-01-31 127.69  99.09 152.10  878.03 354.00 50.00 112.00  48.20\n",
       "1  2014-02-28 133.32 126.05 177.00 1001.90 347.00 31.00 122.00  36.20\n",
       "2  2014-03-31 137.44  92.95 147.66  779.27 232.00 20.00 112.00  85.40\n",
       "3  2014-04-30 113.10  89.48 130.90  698.50 209.00 18.00  97.00  73.70\n",
       "4  2014-05-31 101.79 119.93 132.10  628.78 270.00 23.00 107.00 123.70"
      ]
     },
     "execution_count": 50,
     "metadata": {},
     "output_type": "execute_result"
    }
   ],
   "source": [
    "df_monthly.head()"
   ]
  },
  {
   "cell_type": "markdown",
   "metadata": {},
   "source": [
    "### Sprawdzam czy występują duplikaty duplikaty"
   ]
  },
  {
   "cell_type": "code",
   "execution_count": 45,
   "metadata": {
    "tags": []
   },
   "outputs": [
    {
     "data": {
      "text/plain": [
       "((50532, 13), (2106, 13), (302, 9), (70, 9))"
      ]
     },
     "execution_count": 45,
     "metadata": {},
     "output_type": "execute_result"
    }
   ],
   "source": [
    "df_hourly.shape, df_daily.shape, df_weekly.shape, df_monthly.shape"
   ]
  },
  {
   "cell_type": "code",
   "execution_count": 46,
   "metadata": {
    "tags": []
   },
   "outputs": [
    {
     "data": {
      "text/plain": [
       "((50532, 13), (2106, 13), (302, 9), (70, 9))"
      ]
     },
     "execution_count": 46,
     "metadata": {},
     "output_type": "execute_result"
    }
   ],
   "source": [
    "df_hourly.drop_duplicates()\n",
    "df_daily.drop_duplicates()\n",
    "df_weekly.drop_duplicates()\n",
    "df_monthly.drop_duplicates()\n",
    "df_hourly.shape, df_daily.shape, df_weekly.shape, df_monthly.shape"
   ]
  },
  {
   "cell_type": "markdown",
   "metadata": {},
   "source": [
    "### Brak duplikatów\n",
    "### Sprawdzanie pustych danych"
   ]
  },
  {
   "cell_type": "code",
   "execution_count": 47,
   "metadata": {
    "tags": []
   },
   "outputs": [
    {
     "data": {
      "text/plain": [
       "(datum           0\n",
       " M01AB           0\n",
       " M01AE           0\n",
       " N02BA           0\n",
       " N02BE           0\n",
       " N05B            0\n",
       " N05C            0\n",
       " R03             0\n",
       " R06             0\n",
       " Year            0\n",
       " Month           0\n",
       " Hour            0\n",
       " Weekday Name    0\n",
       " dtype: int64,\n",
       " datum           0\n",
       " M01AB           0\n",
       " M01AE           0\n",
       " N02BA           0\n",
       " N02BE           0\n",
       " N05B            0\n",
       " N05C            0\n",
       " R03             0\n",
       " R06             0\n",
       " Year            0\n",
       " Month           0\n",
       " Hour            0\n",
       " Weekday Name    0\n",
       " dtype: int64,\n",
       " datum    0\n",
       " M01AB    0\n",
       " M01AE    0\n",
       " N02BA    0\n",
       " N02BE    0\n",
       " N05B     0\n",
       " N05C     0\n",
       " R03      0\n",
       " R06      0\n",
       " dtype: int64,\n",
       " datum    0\n",
       " M01AB    0\n",
       " M01AE    0\n",
       " N02BA    0\n",
       " N02BE    0\n",
       " N05B     0\n",
       " N05C     0\n",
       " R03      0\n",
       " R06      0\n",
       " dtype: int64)"
      ]
     },
     "execution_count": 47,
     "metadata": {},
     "output_type": "execute_result"
    }
   ],
   "source": [
    "df_hourly.isna().sum(), df_daily.isna().sum(), df_weekly.isna().sum(), df_monthly.isna().sum()"
   ]
  },
  {
   "cell_type": "markdown",
   "metadata": {},
   "source": [
    "### Brak pustych danych\n",
    "### Jedna rzecz która widzę, że moze ona przeszkadzać to datum w df_hourly zawiera również godzinę co może utrudniać późneij sprawę przy łączeniu tch baz. Pozbędę sie po prostu części godzinowaje ponieważ ona i tak ma swoją kolumnę."
   ]
  },
  {
   "cell_type": "code",
   "execution_count": 48,
   "metadata": {
    "tags": []
   },
   "outputs": [
    {
     "data": {
      "text/html": [
       "<div>\n",
       "<style scoped>\n",
       "    .dataframe tbody tr th:only-of-type {\n",
       "        vertical-align: middle;\n",
       "    }\n",
       "\n",
       "    .dataframe tbody tr th {\n",
       "        vertical-align: top;\n",
       "    }\n",
       "\n",
       "    .dataframe thead th {\n",
       "        text-align: right;\n",
       "    }\n",
       "</style>\n",
       "<table border=\"1\" class=\"dataframe\">\n",
       "  <thead>\n",
       "    <tr style=\"text-align: right;\">\n",
       "      <th></th>\n",
       "      <th>datum</th>\n",
       "      <th>M01AB</th>\n",
       "      <th>M01AE</th>\n",
       "      <th>N02BA</th>\n",
       "      <th>N02BE</th>\n",
       "      <th>N05B</th>\n",
       "      <th>N05C</th>\n",
       "      <th>R03</th>\n",
       "      <th>R06</th>\n",
       "      <th>Year</th>\n",
       "      <th>Month</th>\n",
       "      <th>Hour</th>\n",
       "      <th>Weekday Name</th>\n",
       "    </tr>\n",
       "  </thead>\n",
       "  <tbody>\n",
       "    <tr>\n",
       "      <th>0</th>\n",
       "      <td>1/2/2014</td>\n",
       "      <td>0.00</td>\n",
       "      <td>0.67</td>\n",
       "      <td>0.40</td>\n",
       "      <td>2.00</td>\n",
       "      <td>0.00</td>\n",
       "      <td>0.00</td>\n",
       "      <td>0.00</td>\n",
       "      <td>1.00</td>\n",
       "      <td>2014</td>\n",
       "      <td>1</td>\n",
       "      <td>8</td>\n",
       "      <td>Thursday</td>\n",
       "    </tr>\n",
       "    <tr>\n",
       "      <th>1</th>\n",
       "      <td>1/2/2014</td>\n",
       "      <td>0.00</td>\n",
       "      <td>0.00</td>\n",
       "      <td>1.00</td>\n",
       "      <td>0.00</td>\n",
       "      <td>2.00</td>\n",
       "      <td>0.00</td>\n",
       "      <td>0.00</td>\n",
       "      <td>0.00</td>\n",
       "      <td>2014</td>\n",
       "      <td>1</td>\n",
       "      <td>9</td>\n",
       "      <td>Thursday</td>\n",
       "    </tr>\n",
       "    <tr>\n",
       "      <th>2</th>\n",
       "      <td>1/2/2014</td>\n",
       "      <td>0.00</td>\n",
       "      <td>0.00</td>\n",
       "      <td>0.00</td>\n",
       "      <td>3.00</td>\n",
       "      <td>2.00</td>\n",
       "      <td>0.00</td>\n",
       "      <td>0.00</td>\n",
       "      <td>0.00</td>\n",
       "      <td>2014</td>\n",
       "      <td>1</td>\n",
       "      <td>10</td>\n",
       "      <td>Thursday</td>\n",
       "    </tr>\n",
       "    <tr>\n",
       "      <th>3</th>\n",
       "      <td>1/2/2014</td>\n",
       "      <td>0.00</td>\n",
       "      <td>0.00</td>\n",
       "      <td>0.00</td>\n",
       "      <td>2.00</td>\n",
       "      <td>1.00</td>\n",
       "      <td>0.00</td>\n",
       "      <td>0.00</td>\n",
       "      <td>0.00</td>\n",
       "      <td>2014</td>\n",
       "      <td>1</td>\n",
       "      <td>11</td>\n",
       "      <td>Thursday</td>\n",
       "    </tr>\n",
       "    <tr>\n",
       "      <th>4</th>\n",
       "      <td>1/2/2014</td>\n",
       "      <td>0.00</td>\n",
       "      <td>2.00</td>\n",
       "      <td>0.00</td>\n",
       "      <td>5.00</td>\n",
       "      <td>2.00</td>\n",
       "      <td>0.00</td>\n",
       "      <td>0.00</td>\n",
       "      <td>0.00</td>\n",
       "      <td>2014</td>\n",
       "      <td>1</td>\n",
       "      <td>12</td>\n",
       "      <td>Thursday</td>\n",
       "    </tr>\n",
       "  </tbody>\n",
       "</table>\n",
       "</div>"
      ],
      "text/plain": [
       "      datum  M01AB  M01AE  N02BA  N02BE  N05B  N05C  R03  R06  Year  Month  \\\n",
       "0  1/2/2014   0.00   0.67   0.40   2.00  0.00  0.00 0.00 1.00  2014      1   \n",
       "1  1/2/2014   0.00   0.00   1.00   0.00  2.00  0.00 0.00 0.00  2014      1   \n",
       "2  1/2/2014   0.00   0.00   0.00   3.00  2.00  0.00 0.00 0.00  2014      1   \n",
       "3  1/2/2014   0.00   0.00   0.00   2.00  1.00  0.00 0.00 0.00  2014      1   \n",
       "4  1/2/2014   0.00   2.00   0.00   5.00  2.00  0.00 0.00 0.00  2014      1   \n",
       "\n",
       "   Hour Weekday Name  \n",
       "0     8     Thursday  \n",
       "1     9     Thursday  \n",
       "2    10     Thursday  \n",
       "3    11     Thursday  \n",
       "4    12     Thursday  "
      ]
     },
     "execution_count": 48,
     "metadata": {},
     "output_type": "execute_result"
    }
   ],
   "source": [
    "df_hourly['datum'] = df_hourly['datum'].str.split(' ').str[0]\n",
    "\n",
    "\n",
    "df_hourly.head()"
   ]
  },
  {
   "cell_type": "code",
   "execution_count": 53,
   "metadata": {
    "tags": []
   },
   "outputs": [],
   "source": [
    "df_hourly.to_csv('saleshourly.csv', float_format='%.2f') # nadpisuje wcześniejszy plik\n",
    "df_daily.to_csv('salesdaily.csv', float_format='%.2f') # nadpisze też resztę plików dla pewności, żeby wszystkie maiały tylko dwa miejsca po przecinku, bo może nie tylko salesmonthly to ma\n",
    "df_weekly.to_csv('salesweekly.csv', float_format='%.2f')\n",
    "df_monthly.to_csv('salesmonthly.csv', float_format='%.2f')"
   ]
  },
  {
   "cell_type": "markdown",
   "metadata": {},
   "source": [
    "### Do pracy w Tableau użyję pliku saleshourly.csv ponieważ zawiera najdokładniejsze dane ze wszystkich i są to te same dane co w innych plikach, więc nie ma sensu pracować na wielu plikach chyba że odkryję że coś będzie mi potrzebne z innych plików dla tego wstepnie je zapisałem ale sama praca bedzie na saleshourly.csv."
   ]
  }
 ],
 "metadata": {
  "kernelspec": {
   "display_name": "Python 3 (ipykernel)",
   "language": "python",
   "name": "python3"
  },
  "language_info": {
   "codemirror_mode": {
    "name": "ipython",
    "version": 3
   },
   "file_extension": ".py",
   "mimetype": "text/x-python",
   "name": "python",
   "nbconvert_exporter": "python",
   "pygments_lexer": "ipython3",
   "version": "3.11.5"
  }
 },
 "nbformat": 4,
 "nbformat_minor": 4
}
